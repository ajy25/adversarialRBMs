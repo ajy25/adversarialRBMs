{
 "cells": [
  {
   "cell_type": "markdown",
   "metadata": {},
   "source": [
    "# Mixture of Gaussians BEAM Demo"
   ]
  },
  {
   "cell_type": "markdown",
   "metadata": {},
   "source": [
    "### Step 1: Load all necessary modules and generate the data"
   ]
  },
  {
   "cell_type": "code",
   "execution_count": 1,
   "metadata": {},
   "outputs": [
    {
     "ename": "",
     "evalue": "",
     "output_type": "error",
     "traceback": [
      "\u001b[1;31mThe Kernel crashed while executing code in the the current cell or a previous cell. Please review the code in the cell(s) to identify a possible cause of the failure. Click <a href='https://aka.ms/vscodeJupyterKernelCrash'>here</a> for more info. View Jupyter <a href='command:jupyter.viewOutput'>log</a> for further details."
     ]
    }
   ],
   "source": [
    "import os, sys\n",
    "directory_path = os.path.dirname(os.path.abspath(\"__notebook__\"))\n",
    "sys.path.append('../')\n",
    "import numpy as np\n",
    "np.random.seed(42)\n",
    "import matplotlib.pyplot as plt\n",
    "from beam import BEAM, load\n",
    "\n",
    "def gaussian_grid(width, height, scale, n_total_samples):\n",
    "    cov = np.eye(2) * scale\n",
    "    samples_per_center = int(n_total_samples / (width * height))\n",
    "    X = []\n",
    "    for i in range(height):\n",
    "        for j in range(width):\n",
    "            mean = np.array([i, j])\n",
    "            X.append(np.random.multivariate_normal(mean, cov, samples_per_center))\n",
    "    final = np.vstack(X)\n",
    "    final[:, 0] -= (height - 1) / 2\n",
    "    final[:, 1] -= (width - 1) / 2\n",
    "    return final\n",
    "\n",
    "X = gaussian_grid(5, 5, 0.05, 10000) * 10 + 5\n",
    "np.random.shuffle(X)\n",
    "img = plt.scatter(x=X[:, 0], y=X[:, 1], s=2)"
   ]
  },
  {
   "cell_type": "markdown",
   "metadata": {},
   "source": [
    "### Step 2: Train the BEAM"
   ]
  },
  {
   "cell_type": "code",
   "execution_count": null,
   "metadata": {},
   "outputs": [],
   "source": [
    "model = BEAM(\n",
    "    n_vis=2,\n",
    "    n_hid=20\n",
    ")\n",
    "model.fit(\n",
    "    X = X,\n",
    "    n_gibbs=1,\n",
    "    lr=0.01,\n",
    "    n_epochs=100,\n",
    "    batch_size=50,\n",
    "    gamma=0.1,\n",
    "    gamma_delay=25,\n",
    "    rng_seed=0,\n",
    "    fail_tol=8,\n",
    "    verbose=True,\n",
    "    checkpoint_path=f'{directory_path}/beam_checkpoints/beam.pth'\n",
    ")"
   ]
  },
  {
   "cell_type": "markdown",
   "metadata": {},
   "source": [
    "### Step 3: Visualize the learned distribution"
   ]
  },
  {
   "cell_type": "code",
   "execution_count": null,
   "metadata": {},
   "outputs": [],
   "source": [
    "model = load(f'{directory_path}/rbm_checkpoints/rbm.pth',\n",
    "                 f'{directory_path}/rbm_checkpoints/rbm.json')\n",
    "print(model._variance())\n",
    "samples = model.reconstruct(\n",
    "    np.zeros((10000, 2)), n_gibbs=200\n",
    ")\n",
    "img = plt.scatter(x=samples[:, 0], y=samples[:, 1], s=2)"
   ]
  }
 ],
 "metadata": {
  "kernelspec": {
   "display_name": "csci1470 Python 3.9.12",
   "language": "python",
   "name": "csci1470"
  },
  "language_info": {
   "codemirror_mode": {
    "name": "ipython",
    "version": 3
   },
   "file_extension": ".py",
   "mimetype": "text/x-python",
   "name": "python",
   "nbconvert_exporter": "python",
   "pygments_lexer": "ipython3",
   "version": "3.9.12"
  }
 },
 "nbformat": 4,
 "nbformat_minor": 2
}
